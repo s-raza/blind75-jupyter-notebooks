{
 "cells": [
  {
   "cell_type": "markdown",
   "metadata": {},
   "source": [
    "https://leetcode.com/problems/implement-queue-using-stacks/"
   ]
  },
  {
   "cell_type": "code",
   "execution_count": null,
   "metadata": {},
   "outputs": [],
   "source": [
    "class MyQueue:\n",
    "    \n",
    "    def __init__(self, *args, **kwargs):\n",
    "        \n",
    "        return\n",
    "\n",
    "    def push(self, x: int) -> None:\n",
    "        \n",
    "        return\n",
    "\n",
    "    def pop(self) -> int:\n",
    "        \n",
    "        return\n",
    "\n",
    "    def peek(self) -> int:\n",
    "        \n",
    "        return\n",
    "\n",
    "    def empty(self) -> bool:\n",
    "        \n",
    "        return"
   ]
  },
  {
   "cell_type": "code",
   "execution_count": null,
   "metadata": {},
   "outputs": [],
   "source": [
    "from solver_class_methods import solve\n",
    "\n",
    "problems = [\n",
    "    \n",
    "    ([{}, MyQueue, [(\"push\", [1]), (\"push\", [2]), (\"peek\", []), (\"pop\", []), (\"empty\", [])]], [None, None, 1, 1, False]),\n",
    "    ([{}, MyQueue, [(\"push\", [1]), (\"push\", [2]), (\"peek\", []), (\"pop\", []), (\"pop\", []), (\"empty\", [])]], [None, None, 1, 1, 2, True]),\n",
    "    ([{}, MyQueue, [(\"push\", [1]), (\"push\", [2]), (\"peek\", []), (\"pop\", []), (\"pop\", []), (\"pop\", []), (\"empty\", [])]], [None, None, 1, 1, 2, None, True]),\n",
    "]\n",
    "\n",
    "solve(problems)"
   ]
  }
 ],
 "metadata": {
  "interpreter": {
   "hash": "4cbe1a63fb4cb2afc5644a4390b99a31b3c14cd4626096436f85c3aa04727311"
  },
  "kernelspec": {
   "display_name": "Python 3.8.2 ('code_practice-ZX7PBfFO')",
   "language": "python",
   "name": "python3"
  },
  "language_info": {
   "codemirror_mode": {
    "name": "ipython",
    "version": 3
   },
   "file_extension": ".py",
   "mimetype": "text/x-python",
   "name": "python",
   "nbconvert_exporter": "python",
   "pygments_lexer": "ipython3",
   "version": "3.8.2"
  },
  "orig_nbformat": 4
 },
 "nbformat": 4,
 "nbformat_minor": 2
}
