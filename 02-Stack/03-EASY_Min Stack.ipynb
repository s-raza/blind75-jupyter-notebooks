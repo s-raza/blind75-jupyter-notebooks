{
 "cells": [
  {
   "cell_type": "markdown",
   "metadata": {},
   "source": [
    "https://leetcode.com/problems/min-stack/"
   ]
  },
  {
   "cell_type": "code",
   "execution_count": null,
   "metadata": {},
   "outputs": [],
   "source": [
    "class MinStack:\n",
    "    \n",
    "    def __init__(self):\n",
    "        \n",
    "        return\n",
    "\n",
    "    def push(self, val: int) -> None:\n",
    "        \n",
    "        return\n",
    "        \n",
    "    def pop(self) -> None:\n",
    "        \n",
    "        return\n",
    "\n",
    "    def top(self) -> int:\n",
    "        \n",
    "        return\n",
    "\n",
    "    def getMin(self) -> int:\n",
    "        \n",
    "        return"
   ]
  },
  {
   "cell_type": "code",
   "execution_count": null,
   "metadata": {},
   "outputs": [],
   "source": [
    "from solver import solve\n",
    "\n",
    "problems = [\n",
    "    \n",
    "    ([MinStack, [(\"push\", [-2]), (\"push\", [0]), (\"push\", [-3]), (\"getMin\", []), (\"pop\", []), (\"top\", []), (\"getMin\", [])]], [None, None, None, -3, None, 0, -2]),\n",
    "    ([MinStack, [(\"push\", [0]), (\"push\", [1]), (\"push\", [0]), (\"getMin\", []), (\"pop\", []), (\"getMin\", [])]], [None, None, None, 0, None, 0]),\n",
    "    \n",
    "]\n",
    "\n",
    "solve(problems)"
   ]
  }
 ],
 "metadata": {
  "interpreter": {
   "hash": "4cbe1a63fb4cb2afc5644a4390b99a31b3c14cd4626096436f85c3aa04727311"
  },
  "kernelspec": {
   "display_name": "Python 3.8.2 ('code_practice-ZX7PBfFO')",
   "language": "python",
   "name": "python3"
  },
  "language_info": {
   "codemirror_mode": {
    "name": "ipython",
    "version": 3
   },
   "file_extension": ".py",
   "mimetype": "text/x-python",
   "name": "python",
   "nbconvert_exporter": "python",
   "pygments_lexer": "ipython3",
   "version": "3.8.2"
  },
  "orig_nbformat": 4
 },
 "nbformat": 4,
 "nbformat_minor": 2
}
