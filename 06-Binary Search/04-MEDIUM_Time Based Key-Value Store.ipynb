{
 "cells": [
  {
   "cell_type": "markdown",
   "metadata": {},
   "source": [
    "https://leetcode.com/problems/time-based-key-value-store/"
   ]
  },
  {
   "cell_type": "code",
   "execution_count": null,
   "metadata": {},
   "outputs": [],
   "source": [
    "class TimeMap:\n",
    "    \n",
    "    def __init__(self, *args, **kwargs):\n",
    "        \n",
    "        return\n",
    "\n",
    "    def set(self, key: str, value: str, timestamp: int) -> None:\n",
    "        \n",
    "        return\n",
    "\n",
    "    def get(self, key: str, timestamp: int) -> str:\n",
    "        \n",
    "        return"
   ]
  },
  {
   "cell_type": "code",
   "execution_count": null,
   "metadata": {},
   "outputs": [],
   "source": [
    "from solver_class_methods import solve\n",
    "\n",
    "problems = [\n",
    "    \n",
    "    (\n",
    "        [\n",
    "            {}, TimeMap,\n",
    "                [\n",
    "                    (\"set\", [\"foo\", \"bar\", 1]),\n",
    "                    (\"get\", [\"foo\", 1]),\n",
    "                    (\"get\", [\"foo\", 3]),\n",
    "                    (\"set\", [\"foo\", \"bar2\", 4]),\n",
    "                    (\"get\", [\"foo\", 4]),\n",
    "                    (\"get\", [\"foo\", 5])\n",
    "                ]\n",
    "        ],\n",
    "        [None, \"bar\", \"bar\", None, \"bar2\", \"bar2\"]\n",
    "    ),\n",
    "    \n",
    "]\n",
    "\n",
    "\n",
    "solve(problems)"
   ]
  }
 ],
 "metadata": {
  "interpreter": {
   "hash": "4cbe1a63fb4cb2afc5644a4390b99a31b3c14cd4626096436f85c3aa04727311"
  },
  "kernelspec": {
   "display_name": "Python 3.8.2 ('code_practice-ZX7PBfFO')",
   "language": "python",
   "name": "python3"
  },
  "language_info": {
   "codemirror_mode": {
    "name": "ipython",
    "version": 3
   },
   "file_extension": ".py",
   "mimetype": "text/x-python",
   "name": "python",
   "nbconvert_exporter": "python",
   "pygments_lexer": "ipython3",
   "version": "3.8.2"
  },
  "orig_nbformat": 4
 },
 "nbformat": 4,
 "nbformat_minor": 2
}
