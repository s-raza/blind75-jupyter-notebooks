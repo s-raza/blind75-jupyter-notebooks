{
 "cells": [
  {
   "cell_type": "markdown",
   "metadata": {},
   "source": [
    "https://leetcode.com/problems/coin-change/"
   ]
  },
  {
   "cell_type": "code",
   "execution_count": null,
   "metadata": {},
   "outputs": [],
   "source": [
    "from typing import List\n",
    "\n",
    "class Solution:\n",
    "    def coinChange(self, coins: List[int], amount: int) -> int:\n",
    "        \n",
    "        return"
   ]
  },
  {
   "cell_type": "code",
   "execution_count": null,
   "metadata": {},
   "outputs": [],
   "source": [
    "from tools import solve\n",
    "\n",
    "problems = [\n",
    "    \n",
    "    ([[1,2,5], 11], 3),\n",
    "    ([[2], 11], -1),\n",
    "    ([[1], 0], 0),\n",
    "    \n",
    "]\n",
    "\n",
    "solution = Solution().coinChange\n",
    "solve(problems, solution)"
   ]
  }
 ],
 "metadata": {
  "kernelspec": {
   "display_name": "Python 3.8.2 ('code_practice-ZX7PBfFO')",
   "language": "python",
   "name": "python3"
  },
  "language_info": {
   "codemirror_mode": {
    "name": "ipython",
    "version": 3
   },
   "file_extension": ".py",
   "mimetype": "text/x-python",
   "name": "python",
   "nbconvert_exporter": "python",
   "pygments_lexer": "ipython3",
   "version": "3.8.2"
  },
  "orig_nbformat": 4,
  "vscode": {
   "interpreter": {
    "hash": "4cbe1a63fb4cb2afc5644a4390b99a31b3c14cd4626096436f85c3aa04727311"
   }
  }
 },
 "nbformat": 4,
 "nbformat_minor": 2
}
