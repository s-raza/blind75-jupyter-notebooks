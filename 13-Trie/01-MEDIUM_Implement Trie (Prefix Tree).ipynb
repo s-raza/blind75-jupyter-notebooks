{
 "cells": [
  {
   "cell_type": "markdown",
   "metadata": {},
   "source": [
    "https://leetcode.com/problems/implement-trie-prefix-tree/"
   ]
  },
  {
   "cell_type": "code",
   "execution_count": null,
   "metadata": {},
   "outputs": [],
   "source": [
    "class Trie:\n",
    "    \n",
    "    def __init__(self, *args, **kwargs):\n",
    "        \n",
    "        return\n",
    "\n",
    "    def insert(self, word: str) -> None:\n",
    "        \n",
    "        return\n",
    "\n",
    "    def search(self, word: str) -> bool:\n",
    "        \n",
    "        return\n",
    "\n",
    "    def startsWith(self, prefix: str) -> bool:\n",
    "        \n",
    "        return"
   ]
  },
  {
   "cell_type": "code",
   "execution_count": null,
   "metadata": {},
   "outputs": [],
   "source": [
    "from solver_class_methods import solve\n",
    "\n",
    "problems = [\n",
    "    \n",
    "    ([\n",
    "        {}, Trie,\n",
    "        [\n",
    "            (\"insert\", [\"apple\"]),\n",
    "            (\"search\", [\"apple\"]),\n",
    "            (\"search\", [\"app\"]),\n",
    "            (\"startsWith\", [\"app\"]),\n",
    "            (\"insert\", [\"app\"]),\n",
    "            (\"search\", [\"app\"])\n",
    "        ]\n",
    "    ], [None, True, False, True, None, True]\n",
    "\n",
    "    ),\n",
    "]\n",
    "\n",
    "solve(problems)"
   ]
  }
 ],
 "metadata": {
  "kernelspec": {
   "display_name": "Python 3.8.2 ('code_practice-ZX7PBfFO')",
   "language": "python",
   "name": "python3"
  },
  "language_info": {
   "codemirror_mode": {
    "name": "ipython",
    "version": 3
   },
   "file_extension": ".py",
   "mimetype": "text/x-python",
   "name": "python",
   "nbconvert_exporter": "python",
   "pygments_lexer": "ipython3",
   "version": "3.8.2"
  },
  "orig_nbformat": 4,
  "vscode": {
   "interpreter": {
    "hash": "4cbe1a63fb4cb2afc5644a4390b99a31b3c14cd4626096436f85c3aa04727311"
   }
  }
 },
 "nbformat": 4,
 "nbformat_minor": 2
}
