{
 "cells": [
  {
   "cell_type": "markdown",
   "metadata": {},
   "source": [
    "https://leetcode.com/problems/clone-graph/"
   ]
  },
  {
   "cell_type": "code",
   "execution_count": null,
   "metadata": {},
   "outputs": [],
   "source": [
    "from graph import Node, Graph\n",
    "\n",
    "class Solution:\n",
    "    def cloneGraph(self, node: 'Node') -> 'Node':\n",
    "        \n",
    "        if not node:\n",
    "            return\n",
    "        \n",
    "        visited = {}\n",
    "                \n",
    "        def dfs(node: Node):\n",
    "        \n",
    "            if node.val not in visited:\n",
    "                visited[node.val] = curr_node = Node(node.val)\n",
    "                curr_node.val = node.val\n",
    "                curr_node.neighbors = visited[node.val].neighbors = [dfs(n) for n in node.neighbors]\n",
    "                \n",
    "            return visited[node.val]\n",
    "        \n",
    "        return dfs(node)"
   ]
  },
  {
   "cell_type": "code",
   "execution_count": null,
   "metadata": {},
   "outputs": [],
   "source": [
    "from graph import Graph\n",
    "from solver import solve_graph\n",
    "\n",
    "problems = [\n",
    "    \n",
    "    ([[[2,4],[1,3],[2,4],[1,3]]], [[2,4],[1,3],[2,4],[1,3]]),\n",
    "    ([[[]]], [[]]),\n",
    "    ([[]], None),\n",
    "    \n",
    "]\n",
    "\n",
    "solution = Solution().cloneGraph\n",
    "solve_graph(problems, solution)"
   ]
  }
 ],
 "metadata": {
  "interpreter": {
   "hash": "4cbe1a63fb4cb2afc5644a4390b99a31b3c14cd4626096436f85c3aa04727311"
  },
  "kernelspec": {
   "display_name": "Python 3.8.2 ('code_practice-ZX7PBfFO')",
   "language": "python",
   "name": "python3"
  },
  "language_info": {
   "codemirror_mode": {
    "name": "ipython",
    "version": 3
   },
   "file_extension": ".py",
   "mimetype": "text/x-python",
   "name": "python",
   "nbconvert_exporter": "python",
   "pygments_lexer": "ipython3",
   "version": "3.8.2"
  },
  "orig_nbformat": 4
 },
 "nbformat": 4,
 "nbformat_minor": 2
}
