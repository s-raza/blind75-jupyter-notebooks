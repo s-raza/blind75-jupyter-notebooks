{
 "cells": [
  {
   "cell_type": "markdown",
   "metadata": {},
   "source": [
    "https://leetcode.com/problems/accounts-merge/"
   ]
  },
  {
   "cell_type": "code",
   "execution_count": null,
   "metadata": {},
   "outputs": [],
   "source": [
    "from typing import List\n",
    "\n",
    "class Solution:\n",
    "    def accountsMerge(self, accounts: List[List[str]]) -> List[List[str]]:\n",
    "        \n",
    "        return"
   ]
  },
  {
   "cell_type": "code",
   "execution_count": null,
   "metadata": {},
   "outputs": [],
   "source": [
    "from tools import solve\n",
    "\n",
    "problems = [\n",
    "    \n",
    "    (\n",
    "        [\n",
    "            [\n",
    "                [\"John\",\"johnsmith@mail.com\",\"john_newyork@mail.com\"],\n",
    "                [\"John\",\"johnsmith@mail.com\",\"john00@mail.com\"],\n",
    "                [\"Mary\",\"mary@mail.com\"],\n",
    "                [\"John\",\"johnnybravo@mail.com\"]\n",
    "            ]\n",
    "        ],\n",
    "        [\n",
    "            [\"John\",\"john00@mail.com\",\"john_newyork@mail.com\",\"johnsmith@mail.com\"],\n",
    "            [\"Mary\",\"mary@mail.com\"],[\"John\",\"johnnybravo@mail.com\"]\n",
    "        ]\n",
    "     ),\n",
    "    \n",
    "    (\n",
    "        [\n",
    "            [\n",
    "                [\"Gabe\",\"Gabe0@m.co\",\"Gabe3@m.co\",\"Gabe1@m.co\"],\n",
    "                [\"Kevin\",\"Kevin3@m.co\",\"Kevin5@m.co\",\"Kevin0@m.co\"],\n",
    "                [\"Ethan\",\"Ethan5@m.co\",\"Ethan4@m.co\",\"Ethan0@m.co\"],\n",
    "                [\"Hanzo\",\"Hanzo3@m.co\",\"Hanzo1@m.co\",\"Hanzo0@m.co\"],\n",
    "                [\"Fern\",\"Fern5@m.co\",\"Fern1@m.co\",\"Fern0@m.co\"]\n",
    "            ]\n",
    "        ],\n",
    "        [\n",
    "            [\"Ethan\",\"Ethan0@m.co\",\"Ethan4@m.co\",\"Ethan5@m.co\"],\n",
    "            [\"Gabe\",\"Gabe0@m.co\",\"Gabe1@m.co\",\"Gabe3@m.co\"],\n",
    "            [\"Hanzo\",\"Hanzo0@m.co\",\"Hanzo1@m.co\",\"Hanzo3@m.co\"],\n",
    "            [\"Kevin\",\"Kevin0@m.co\",\"Kevin3@m.co\",\"Kevin5@m.co\"],\n",
    "            [\"Fern\",\"Fern0@m.co\",\"Fern1@m.co\",\"Fern5@m.co\"]\n",
    "        ]\n",
    "     ),\n",
    "    \n",
    "]\n",
    "\n",
    "solution = Solution().accountsMerge\n",
    "solve(problems, solution)"
   ]
  }
 ],
 "metadata": {
  "kernelspec": {
   "display_name": "Python 3.8.2 ('code_practice-ZX7PBfFO')",
   "language": "python",
   "name": "python3"
  },
  "language_info": {
   "codemirror_mode": {
    "name": "ipython",
    "version": 3
   },
   "file_extension": ".py",
   "mimetype": "text/x-python",
   "name": "python",
   "nbconvert_exporter": "python",
   "pygments_lexer": "ipython3",
   "version": "3.8.2"
  },
  "orig_nbformat": 4,
  "vscode": {
   "interpreter": {
    "hash": "4cbe1a63fb4cb2afc5644a4390b99a31b3c14cd4626096436f85c3aa04727311"
   }
  }
 },
 "nbformat": 4,
 "nbformat_minor": 2
}
