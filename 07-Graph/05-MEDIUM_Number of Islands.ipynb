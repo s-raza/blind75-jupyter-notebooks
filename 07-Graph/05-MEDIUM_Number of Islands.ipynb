{
 "cells": [
  {
   "cell_type": "markdown",
   "metadata": {},
   "source": [
    "https://leetcode.com/problems/number-of-islands/"
   ]
  },
  {
   "cell_type": "code",
   "execution_count": null,
   "metadata": {},
   "outputs": [],
   "source": [
    "from typing import List\n",
    "\n",
    "class Solution:\n",
    "    def numIslands(self, grid: List[List[str]]) -> int:\n",
    "        \n",
    "        return"
   ]
  },
  {
   "cell_type": "code",
   "execution_count": null,
   "metadata": {},
   "outputs": [],
   "source": [
    "from tools import solve\n",
    "\n",
    "problems = [\n",
    "    \n",
    "    ([\n",
    "        [\n",
    "            [\"1\",\"1\",\"1\",\"1\",\"0\"],\n",
    "            [\"1\",\"1\",\"0\",\"1\",\"0\"],\n",
    "            [\"1\",\"1\",\"0\",\"0\",\"0\"],\n",
    "            [\"0\",\"0\",\"0\",\"0\",\"0\"]\n",
    "        ]   \n",
    "     ], 1),\n",
    "    \n",
    "    ([\n",
    "        [\n",
    "            [\"1\",\"1\",\"0\",\"0\",\"0\"],\n",
    "            [\"1\",\"1\",\"0\",\"0\",\"0\"],\n",
    "            [\"0\",\"0\",\"1\",\"0\",\"0\"],\n",
    "            [\"0\",\"0\",\"0\",\"1\",\"1\"]\n",
    "        ]   \n",
    "     ], 3),\n",
    "    \n",
    "]\n",
    "\n",
    "solution = Solution().numIslands\n",
    "solve(problems, solution)"
   ]
  }
 ],
 "metadata": {
  "kernelspec": {
   "display_name": "Python 3.8.2 ('code_practice-ZX7PBfFO')",
   "language": "python",
   "name": "python3"
  },
  "language_info": {
   "codemirror_mode": {
    "name": "ipython",
    "version": 3
   },
   "file_extension": ".py",
   "mimetype": "text/x-python",
   "name": "python",
   "nbconvert_exporter": "python",
   "pygments_lexer": "ipython3",
   "version": "3.8.2"
  },
  "orig_nbformat": 4,
  "vscode": {
   "interpreter": {
    "hash": "4cbe1a63fb4cb2afc5644a4390b99a31b3c14cd4626096436f85c3aa04727311"
   }
  }
 },
 "nbformat": 4,
 "nbformat_minor": 2
}
