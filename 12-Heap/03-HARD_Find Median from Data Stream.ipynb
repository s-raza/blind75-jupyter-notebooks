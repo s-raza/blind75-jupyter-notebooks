{
 "cells": [
  {
   "cell_type": "markdown",
   "metadata": {},
   "source": [
    "https://leetcode.com/problems/find-median-from-data-stream/\n",
    "\n",
    "Help Ref: https://github.com/python/cpython/blob/3.8/Lib/bisect.py"
   ]
  },
  {
   "cell_type": "code",
   "execution_count": null,
   "metadata": {},
   "outputs": [],
   "source": [
    "import bisect\n",
    "\n",
    "class MedianFinder:\n",
    "    \n",
    "    def __init__(self, *args, **kwargs):\n",
    "        \n",
    "        return\n",
    "        \n",
    "    def addNum(self, num: int) -> None:\n",
    "        \n",
    "        return\n",
    "        \n",
    "    def findMedian(self) -> float:\n",
    "        \n",
    "        return"
   ]
  },
  {
   "cell_type": "code",
   "execution_count": null,
   "metadata": {},
   "outputs": [],
   "source": [
    "from solver_class_methods import solve\n",
    "\n",
    "problems = [\n",
    "    \n",
    "    ([{}, MedianFinder, [(\"addNum\", [1]), (\"addNum\", [2]), (\"findMedian\", []), (\"addNum\", [3]), (\"findMedian\", [])]], [None, None, 1.5, None, 2.0]),\n",
    "    \n",
    "    ([\n",
    "        {}, MedianFinder,\n",
    "        [\n",
    "            (\"addNum\", [-1]),\n",
    "            (\"findMedian\", []),\n",
    "            (\"addNum\", [-2]),\n",
    "            (\"findMedian\", []),\n",
    "            (\"addNum\", [-3]),\n",
    "            (\"findMedian\", []),\n",
    "            (\"addNum\", [-4]),\n",
    "            (\"findMedian\", []),\n",
    "            (\"addNum\", [-5]),\n",
    "            (\"findMedian\", [])\n",
    "        ]\n",
    "    ], [None, -1.00000, None, -1.50000, None, -2.00000, None, -2.50000, None, -3.00000]\n",
    "\n",
    "    ),\n",
    "]\n",
    "\n",
    "solve(problems)"
   ]
  }
 ],
 "metadata": {
  "kernelspec": {
   "display_name": "Python 3.8.2 ('code_practice-ZX7PBfFO')",
   "language": "python",
   "name": "python3"
  },
  "language_info": {
   "codemirror_mode": {
    "name": "ipython",
    "version": 3
   },
   "file_extension": ".py",
   "mimetype": "text/x-python",
   "name": "python",
   "nbconvert_exporter": "python",
   "pygments_lexer": "ipython3",
   "version": "3.8.2"
  },
  "orig_nbformat": 4,
  "vscode": {
   "interpreter": {
    "hash": "4cbe1a63fb4cb2afc5644a4390b99a31b3c14cd4626096436f85c3aa04727311"
   }
  }
 },
 "nbformat": 4,
 "nbformat_minor": 2
}
