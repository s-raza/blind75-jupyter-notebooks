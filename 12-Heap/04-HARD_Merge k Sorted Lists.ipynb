{
 "cells": [
  {
   "cell_type": "markdown",
   "metadata": {},
   "source": [
    "https://leetcode.com/problems/merge-k-sorted-lists/"
   ]
  },
  {
   "cell_type": "code",
   "execution_count": null,
   "metadata": {},
   "outputs": [],
   "source": [
    "from typing import List, Optional\n",
    "from linked_list import ListNode\n",
    "import heapq\n",
    "\n",
    "class Solution:\n",
    "    def mergeKLists(self, lists: List[Optional[ListNode]]) -> Optional[ListNode]:\n",
    "        \n",
    "        if not lists:\n",
    "            return\n",
    "    \n",
    "        if len(lists) > 0:\n",
    "            if not any(lists):\n",
    "                    return\n",
    "        \n",
    "        hp = []\n",
    "        \n",
    "        for i, lst in enumerate(lists):\n",
    "            \n",
    "            curr = lst\n",
    "            j = 1\n",
    "            \n",
    "            while curr:\n",
    "                hp.append((curr.val, j, i))\n",
    "                curr = curr.next\n",
    "                j += 1\n",
    "                \n",
    "        heapq.heapify(hp)\n",
    "        \n",
    "        temp = ListNode(heapq.heappop(hp)[0])\n",
    "        ans_head = temp\n",
    "        \n",
    "        while hp:\n",
    "            temp.next = ListNode(heapq.heappop(hp)[0])\n",
    "            temp = temp.next\n",
    "            \n",
    "        return ans_head"
   ]
  },
  {
   "cell_type": "code",
   "execution_count": null,
   "metadata": {},
   "outputs": [],
   "source": [
    "from solver import solve_list\n",
    "\n",
    "problems = [\n",
    "    \n",
    "    ([[[1,4,5],[1,3,4],[2,6]]], [1,1,2,3,4,4,5,6]),\n",
    "    ([[]], []),\n",
    "    ([[[]]], []),\n",
    "       \n",
    "]\n",
    "\n",
    "solution = Solution().mergeKLists\n",
    "solve_list(problems, solution)"
   ]
  }
 ],
 "metadata": {
  "kernelspec": {
   "display_name": "Python 3.8.2 ('code_practice-ZX7PBfFO')",
   "language": "python",
   "name": "python3"
  },
  "language_info": {
   "codemirror_mode": {
    "name": "ipython",
    "version": 3
   },
   "file_extension": ".py",
   "mimetype": "text/x-python",
   "name": "python",
   "nbconvert_exporter": "python",
   "pygments_lexer": "ipython3",
   "version": "3.8.2"
  },
  "orig_nbformat": 4,
  "vscode": {
   "interpreter": {
    "hash": "4cbe1a63fb4cb2afc5644a4390b99a31b3c14cd4626096436f85c3aa04727311"
   }
  }
 },
 "nbformat": 4,
 "nbformat_minor": 2
}
