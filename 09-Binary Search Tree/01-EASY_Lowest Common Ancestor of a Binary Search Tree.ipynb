{
 "cells": [
  {
   "cell_type": "markdown",
   "metadata": {},
   "source": [
    "https://leetcode.com/problems/lowest-common-ancestor-of-a-binary-search-tree/"
   ]
  },
  {
   "cell_type": "code",
   "execution_count": null,
   "metadata": {},
   "outputs": [],
   "source": [
    "from binary_tree import TreeNode\n",
    "\n",
    "class Solution:\n",
    "    def lowestCommonAncestor(self, root: 'TreeNode', p: 'TreeNode', q: 'TreeNode') -> 'TreeNode':\n",
    "        \n",
    "        return"
   ]
  },
  {
   "cell_type": "code",
   "execution_count": null,
   "metadata": {},
   "outputs": [],
   "source": [
    "from binary_tree import BTree\n",
    "from inspect import signature\n",
    "\n",
    "def solve_tree(problems, func):\n",
    "            \n",
    "    for prob in problems:\n",
    "        \n",
    "        args, ans = prob\n",
    "        \n",
    "        args_tree = [BTree(arg).root if isinstance(arg, list) else arg for arg in args]\n",
    "        ans = BTree(ans if isinstance(ans, list) else [ans]).root if \"TreeNode\" in str(signature(func).return_annotation) else ans\n",
    "        \n",
    "        print(f\"SOLVING:\\n{args} : {args_tree}\\n\")\n",
    "        sol = func(*args_tree)\n",
    "        print(f\"CORRECT ANSWER:\\n{ans}\\n\")\n",
    "        print(f\"SOLUTION:\\n{sol}\\n\")\n",
    "        res = f\"SUCCESS: {sol==ans}\"\n",
    "        print(f\"{'='*len(res)}\")\n",
    "        print(res)\n",
    "        print(f\"{'='*len(res)}\\n\\n\")\n",
    "\n",
    "problems = [\n",
    "    \n",
    "    ([[6,2,8,0,4,7,9,None,None,3,5], 2, 8], 6),\n",
    "    ([[6,2,8,0,4,7,9,None,None,2,4], 2, 8], 2),\n",
    "    ([[2,1], 2, 1], 2),\n",
    "]\n",
    "\n",
    "solution = Solution().lowestCommonAncestor\n",
    "solve_tree(problems, solution)"
   ]
  }
 ],
 "metadata": {
  "kernelspec": {
   "display_name": "Python 3.8.2 ('code_practice-ZX7PBfFO')",
   "language": "python",
   "name": "python3"
  },
  "language_info": {
   "codemirror_mode": {
    "name": "ipython",
    "version": 3
   },
   "file_extension": ".py",
   "mimetype": "text/x-python",
   "name": "python",
   "nbconvert_exporter": "python",
   "pygments_lexer": "ipython3",
   "version": "3.8.2"
  },
  "orig_nbformat": 4,
  "vscode": {
   "interpreter": {
    "hash": "4cbe1a63fb4cb2afc5644a4390b99a31b3c14cd4626096436f85c3aa04727311"
   }
  }
 },
 "nbformat": 4,
 "nbformat_minor": 2
}
