{
 "cells": [
  {
   "cell_type": "markdown",
   "metadata": {},
   "source": [
    "https://leetcode.com/problems/kth-smallest-element-in-a-bst/"
   ]
  },
  {
   "cell_type": "code",
   "execution_count": null,
   "metadata": {},
   "outputs": [],
   "source": [
    "from typing import Optional\n",
    "from binary_tree import TreeNode\n",
    "\n",
    "class Solution:\n",
    "    def kthSmallest(self, root: Optional[TreeNode], k: int) -> int:\n",
    "        \n",
    "        return"
   ]
  },
  {
   "cell_type": "code",
   "execution_count": null,
   "metadata": {},
   "outputs": [],
   "source": [
    "from solver import solve_tree\n",
    "\n",
    "problems = [\n",
    "    \n",
    "    ([[3,1,4,None,2], 1], 1),\n",
    "    ([[5,3,6,2,4,None,None,1], 3], 3),\n",
    "]\n",
    "\n",
    "solution = Solution().kthSmallest\n",
    "solve_tree(problems, solution)"
   ]
  }
 ],
 "metadata": {
  "kernelspec": {
   "display_name": "Python 3.8.2 ('code_practice-ZX7PBfFO')",
   "language": "python",
   "name": "python3"
  },
  "language_info": {
   "codemirror_mode": {
    "name": "ipython",
    "version": 3
   },
   "file_extension": ".py",
   "mimetype": "text/x-python",
   "name": "python",
   "nbconvert_exporter": "python",
   "pygments_lexer": "ipython3",
   "version": "3.8.2"
  },
  "orig_nbformat": 4,
  "vscode": {
   "interpreter": {
    "hash": "4cbe1a63fb4cb2afc5644a4390b99a31b3c14cd4626096436f85c3aa04727311"
   }
  }
 },
 "nbformat": 4,
 "nbformat_minor": 2
}
