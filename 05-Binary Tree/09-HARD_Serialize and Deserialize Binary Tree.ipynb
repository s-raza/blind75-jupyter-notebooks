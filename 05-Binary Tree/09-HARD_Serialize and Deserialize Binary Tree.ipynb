{
 "cells": [
  {
   "cell_type": "markdown",
   "metadata": {},
   "source": [
    "https://leetcode.com/problems/serialize-and-deserialize-binary-tree/"
   ]
  },
  {
   "cell_type": "code",
   "execution_count": null,
   "metadata": {},
   "outputs": [],
   "source": [
    "from binary_tree import TreeNode\n",
    "\n",
    "class Codec:\n",
    "    \n",
    "    def serialize(self, root: TreeNode) -> str:\n",
    "        \"\"\"Encodes a tree to a single string.\n",
    "        \n",
    "        :type root: TreeNode\n",
    "        :rtype: str\n",
    "        \"\"\"\n",
    "        return\n",
    "        \n",
    "        \n",
    "\n",
    "    def deserialize(self, data: str) -> TreeNode:\n",
    "        \"\"\"Decodes your encoded data to tree.\n",
    "        \n",
    "        :type data: str\n",
    "        :rtype: TreeNode\n",
    "        \"\"\"\n",
    "        return"
   ]
  },
  {
   "cell_type": "code",
   "execution_count": null,
   "metadata": {},
   "outputs": [],
   "source": [
    "from binary_tree import BTree\n",
    "\n",
    "def solve_tree(problems, cls):\n",
    "    \n",
    "    for prob in problems:\n",
    "        \n",
    "        print(f\"SOLVING:\\n{prob}\")\n",
    "        args, ans = prob\n",
    "        arg_tree_root = BTree(args[0]).root\n",
    "        print(f\"{arg_tree_root}\\n\")\n",
    "        print(f\"CORRECT ANSWER:\\n{args[0] == ans}\\n\")\n",
    "        ser = cls().serialize(arg_tree_root)\n",
    "        deser = cls().deserialize(ser)\n",
    "        print(f\"SOLUTION (serializer):\\n{ser}\\n\")\n",
    "        print(f\"SOLUTION (deserializer):\\n{deser}\\n\")\n",
    "        res = f\"SUCCESS: {arg_tree_root==deser}\"\n",
    "        print(f\"{'='*len(res)}\")\n",
    "        print(res)\n",
    "        print(f\"{'='*len(res)}\\n\\n\")\n",
    "\n",
    "problems = [\n",
    "    \n",
    "    ([[1,2,3,None,None,4,5]], [1,2,3,None,None,4,5]),\n",
    "    ([[]], []),\n",
    "]\n",
    "\n",
    "solution_class = Codec\n",
    "solve_tree(problems, solution_class)"
   ]
  }
 ],
 "metadata": {
  "interpreter": {
   "hash": "4cbe1a63fb4cb2afc5644a4390b99a31b3c14cd4626096436f85c3aa04727311"
  },
  "kernelspec": {
   "display_name": "Python 3.8.2 ('code_practice-ZX7PBfFO')",
   "language": "python",
   "name": "python3"
  },
  "language_info": {
   "codemirror_mode": {
    "name": "ipython",
    "version": 3
   },
   "file_extension": ".py",
   "mimetype": "text/x-python",
   "name": "python",
   "nbconvert_exporter": "python",
   "pygments_lexer": "ipython3",
   "version": "3.8.2"
  },
  "orig_nbformat": 4
 },
 "nbformat": 4,
 "nbformat_minor": 2
}
