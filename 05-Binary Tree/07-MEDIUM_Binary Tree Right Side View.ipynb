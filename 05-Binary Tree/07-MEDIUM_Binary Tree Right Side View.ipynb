{
 "cells": [
  {
   "cell_type": "markdown",
   "metadata": {},
   "source": [
    "https://leetcode.com/problems/binary-tree-right-side-view/"
   ]
  },
  {
   "cell_type": "code",
   "execution_count": null,
   "metadata": {},
   "outputs": [],
   "source": [
    "from typing import Optional, List\n",
    "from binary_tree import TreeNode\n",
    "\n",
    "class Solution:\n",
    "    def rightSideView(self, root: Optional[TreeNode]) -> List[int]:\n",
    "        \n",
    "        return"
   ]
  },
  {
   "cell_type": "code",
   "execution_count": null,
   "metadata": {},
   "outputs": [],
   "source": [
    "from solver import solve_tree\n",
    "\n",
    "problems = [\n",
    "    \n",
    "    ([[1,2,3,None,5,None,4]], [1,3,4]),\n",
    "    ([[1,None,3]], [1,3]),\n",
    "    ([[]], []),\n",
    "    \n",
    "]\n",
    "\n",
    "solution = Solution().rightSideView\n",
    "solve_tree(problems, solution)"
   ]
  }
 ],
 "metadata": {
  "interpreter": {
   "hash": "4cbe1a63fb4cb2afc5644a4390b99a31b3c14cd4626096436f85c3aa04727311"
  },
  "kernelspec": {
   "display_name": "Python 3.8.2 ('code_practice-ZX7PBfFO')",
   "language": "python",
   "name": "python3"
  },
  "language_info": {
   "codemirror_mode": {
    "name": "ipython",
    "version": 3
   },
   "file_extension": ".py",
   "mimetype": "text/x-python",
   "name": "python",
   "nbconvert_exporter": "python",
   "pygments_lexer": "ipython3",
   "version": "3.8.2"
  },
  "orig_nbformat": 4
 },
 "nbformat": 4,
 "nbformat_minor": 2
}
