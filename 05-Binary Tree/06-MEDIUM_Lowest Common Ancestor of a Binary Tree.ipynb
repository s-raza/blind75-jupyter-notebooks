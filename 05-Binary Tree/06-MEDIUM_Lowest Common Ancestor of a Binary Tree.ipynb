{
 "cells": [
  {
   "cell_type": "markdown",
   "metadata": {},
   "source": [
    "https://leetcode.com/problems/lowest-common-ancestor-of-a-binary-tree/"
   ]
  },
  {
   "cell_type": "code",
   "execution_count": null,
   "metadata": {},
   "outputs": [],
   "source": [
    "from binary_tree import TreeNode\n",
    "\n",
    "# Note: Return node with the correct node.val, but node.left and node.right can be None\n",
    "# Since p != q is guaranteed, node.right and node.left dont matter and solver accounts for that.\n",
    "class Solution:\n",
    "    def lowestCommonAncestor(self, root: 'TreeNode', p: 'TreeNode', q: 'TreeNode') -> 'TreeNode':\n",
    "        \n",
    "        return"
   ]
  },
  {
   "cell_type": "code",
   "execution_count": null,
   "metadata": {},
   "outputs": [],
   "source": [
    "from solver import solve_tree\n",
    "\n",
    "problems = [\n",
    "    \n",
    "    ([[3,5,1,6,2,0,8,None,None,7,4], [5], [1]], [3]),\n",
    "    ([[3,5,1,6,2,0,8,None,None,7,4], [5], [4]], [5]),\n",
    "    ([[1,2], [1], [2]], [1]),\n",
    "    \n",
    "]\n",
    "\n",
    "solution = Solution().lowestCommonAncestor\n",
    "solve_tree(problems, solution)"
   ]
  }
 ],
 "metadata": {
  "interpreter": {
   "hash": "4cbe1a63fb4cb2afc5644a4390b99a31b3c14cd4626096436f85c3aa04727311"
  },
  "kernelspec": {
   "display_name": "Python 3.8.2 ('code_practice-ZX7PBfFO')",
   "language": "python",
   "name": "python3"
  },
  "language_info": {
   "codemirror_mode": {
    "name": "ipython",
    "version": 3
   },
   "file_extension": ".py",
   "mimetype": "text/x-python",
   "name": "python",
   "nbconvert_exporter": "python",
   "pygments_lexer": "ipython3",
   "version": "3.8.2"
  },
  "orig_nbformat": 4
 },
 "nbformat": 4,
 "nbformat_minor": 2
}
